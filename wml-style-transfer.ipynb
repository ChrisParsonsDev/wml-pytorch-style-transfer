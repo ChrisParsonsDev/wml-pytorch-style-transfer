{
 "cells": [
  {
   "cell_type": "code",
   "execution_count": 1,
   "metadata": {},
   "outputs": [
    {
     "name": "stdout",
     "output_type": "stream",
     "text": [
      "Collecting wget\n",
      "  Downloading https://files.pythonhosted.org/packages/47/6a/62e288da7bcda82b935ff0c6cfe542970f04e29c756b0e147251b2fb251f/wget-3.2.zip\n",
      "Building wheels for collected packages: wget\n",
      "  Running setup.py bdist_wheel for wget ... \u001b[?25ldone\n",
      "\u001b[?25h  Stored in directory: /home/dsxuser/.cache/pip/wheels/40/15/30/7d8f7cea2902b4db79e3fea550d7d7b85ecb27ef992b618f3f\n",
      "Successfully built wget\n",
      "Installing collected packages: wget\n",
      "Successfully installed wget-3.2\n"
     ]
    }
   ],
   "source": [
    "!pip install --upgrade wget"
   ]
  },
  {
   "cell_type": "code",
   "execution_count": 21,
   "metadata": {},
   "outputs": [],
   "source": [
    "!rm tf-model.zip"
   ]
  },
  {
   "cell_type": "code",
   "execution_count": 22,
   "metadata": {},
   "outputs": [
    {
     "data": {
      "text/plain": [
       "'tf-model.zip'"
      ]
     },
     "execution_count": 22,
     "metadata": {},
     "output_type": "execute_result"
    }
   ],
   "source": [
    "import os\n",
    "import wget\n",
    "\n",
    "#Import files \n",
    "filename = 'pytorch-model.zip'\n",
    "url = 'https://github.com/ChrisParsonsDev/wml-pytorch-style-transfer/blob/master/tf-model.zip?raw=true'\n",
    "# url = 'https://github.com/pmservice/wml-sample-models/blob/master/tensorflow/hand-written-digit-recognition/definition/tf-model.zip?raw=true'\n",
    "wget.download(url)\n",
    "# if not os.path.isfile( filename ): wget.download( url )"
   ]
  },
  {
   "cell_type": "code",
   "execution_count": 25,
   "metadata": {},
   "outputs": [],
   "source": [
    "# @hidden_cell\n",
    "# The following code contains the credentials for a file in your IBM Cloud Object Storage.\n",
    "# You might want to remove those credentials before you share your notebook.\n",
    "cos_credentials = {\n",
    "\n",
    "}"
   ]
  },
  {
   "cell_type": "code",
   "execution_count": 11,
   "metadata": {},
   "outputs": [
    {
     "name": "stderr",
     "output_type": "stream",
     "text": [
      "/opt/conda/envs/DSX-Python35/lib/python3.5/site-packages/sklearn/cross_validation.py:41: DeprecationWarning: This module was deprecated in version 0.18 in favor of the model_selection module into which all the refactored classes and functions are moved. Also note that the interface of the new CV iterators are different from that of this module. This module will be removed in 0.20.\n",
      "  \"This module will be removed in 0.20.\", DeprecationWarning)\n",
      "2019-01-10 09:12:19,183 - watson_machine_learning_client.metanames - WARNING - 'AUTHOR_EMAIL' meta prop is deprecated. It will be ignored.\n",
      "2019-01-10 09:12:31,291 - watson_machine_learning_client.metanames - WARNING - 'AUTHOR_EMAIL' meta prop is deprecated. It will be ignored.\n",
      "2019-01-10 09:18:42,846 - watson_machine_learning_client.metanames - WARNING - 'AUTHOR_EMAIL' meta prop is deprecated. It will be ignored.\n",
      "2019-01-10 09:19:05,926 - watson_machine_learning_client.metanames - WARNING - 'AUTHOR_EMAIL' meta prop is deprecated. It will be ignored.\n",
      "2019-01-10 09:28:23,319 - watson_machine_learning_client.wml_client_error - WARNING - Cannot find experiment_uid for experiment_run_uid: 'model-z4dwg9f1'\n",
      "2019-01-10 09:28:53,201 - watson_machine_learning_client.wml_client_error - WARNING - Cannot find experiment_uid for experiment_run_uid: 'training-0D6nD38iR'\n",
      "2019-01-10 09:30:42,329 - watson_machine_learning_client.wml_client_error - WARNING - Failure during getting experiments details. (GET https://us-south.ml.cloud.ibm.com/v3/experiments/model-z4dwg9f1)\n",
      "Status code: 404, body: {\"trace\":\"74688a3913d5c5c71d8f57a3eb243cd4\",\"errors\":[{\"code\":\"not_found\",\"message\":\"Requested object could not be found.\"}]}\n"
     ]
    }
   ],
   "source": [
    "#@hidden_cell\n",
    "from watson_machine_learning_client import WatsonMachineLearningAPIClient\n",
    "\n",
    "wml_credentials = {\n",
    "\n",
    "}\n",
    "\n",
    "client = WatsonMachineLearningAPIClient( wml_credentials )"
   ]
  },
  {
   "cell_type": "code",
   "execution_count": 23,
   "metadata": {},
   "outputs": [
    {
     "name": "stdout",
     "output_type": "stream",
     "text": [
      "definition_uid:  4bfd2adc-558e-4e8f-8fda-1ab4d8c83d1f\n"
     ]
    }
   ],
   "source": [
    "metadata = {\n",
    "client.repository.DefinitionMetaNames.NAME              : \"tensorflow-styletransfer-wml\",\n",
    "client.repository.DefinitionMetaNames.AUTHOR_EMAIL      : \"chrisparsons@uk.ibm.com\",\n",
    "client.repository.DefinitionMetaNames.FRAMEWORK_NAME    : \"pytorch\",\n",
    "client.repository.DefinitionMetaNames.FRAMEWORK_VERSION : \"1.0\",\n",
    "client.repository.DefinitionMetaNames.RUNTIME_NAME      : \"python\",\n",
    "client.repository.DefinitionMetaNames.RUNTIME_VERSION   : \"3.5\",\n",
    "client.repository.DefinitionMetaNames.EXECUTION_COMMAND : \"python3 ./pytorch-model/style-transfer.py --styleImageFile ${DATA_DIR}/emma.jpg --contentImageFile ${DATA_DIR}/chris.jpeg --trainingIters 2000\"\n",
    "}\n",
    "definition_details = client.repository.store_definition( \"pytorch-model.zip\", meta_props=metadata )\n",
    "definition_uid     = client.repository.get_definition_uid( definition_details )\n",
    "print( \"definition_uid: \", definition_uid )\n"
   ]
  },
  {
   "cell_type": "code",
   "execution_count": 26,
   "metadata": {},
   "outputs": [],
   "source": [
    "metadata = {\n",
    "client.training.ConfigurationMetaNames.NAME         : \"tensorflow-styletransfer-wml\",\n",
    "client.training.ConfigurationMetaNames.AUTHOR_EMAIL : \"chrisparsons@uk.ibm.com\",\n",
    "client.training.ConfigurationMetaNames.TRAINING_DATA_REFERENCE : {\n",
    "   \"connection\" : { \n",
    "      \"endpoint_url\"      : cos_credentials['ENDPOINT'],\n",
    "      \"access_key_id\"     : cos_credentials['IBM_ACCESS_KEY_ID'],\n",
    "      \"secret_access_key\" : cos_credentials['IBM_SECRET_ACCESS_KEY']\n",
    "      },\n",
    "   \"source\" : { \n",
    "      \"bucket\" : cos_credentials['BUCKET'],\n",
    "      },\n",
    "      \"type\" : \"s3\"\n",
    "   },\n",
    "client.training.ConfigurationMetaNames.TRAINING_RESULTS_REFERENCE: {\n",
    "   \"connection\" : {\n",
    "      \"endpoint_url\"      : cos_credentials['ENDPOINT'],\n",
    "      \"access_key_id\"     : cos_credentials['IBM_ACCESS_KEY_ID'],\n",
    "      \"secret_access_key\" : cos_credentials['IBM_SECRET_ACCESS_KEY']\n",
    "      },\n",
    "      \"target\" : {\n",
    "         \"bucket\" : cos_credentials['BUCKET'],\n",
    "      },\n",
    "      \"type\" : \"s3\"\n",
    "   }\n",
    "}"
   ]
  },
  {
   "cell_type": "code",
   "execution_count": 27,
   "metadata": {},
   "outputs": [
    {
     "name": "stdout",
     "output_type": "stream",
     "text": [
      "run_uid:  model-z4dwg9f1\n"
     ]
    }
   ],
   "source": [
    "run_details = client.training.run( definition_uid, meta_props=metadata )\n",
    "run_uid     = client.training.get_run_uid( run_details )\n",
    "print( \"run_uid: \", run_uid )"
   ]
  },
  {
   "cell_type": "code",
   "execution_count": 45,
   "metadata": {},
   "outputs": [
    {
     "data": {
      "text/plain": [
       "{'current_at': '2019-01-10T09:41:12Z',\n",
       " 'finished_at': '2019-01-10T09:40:32Z',\n",
       " 'message': 'training-0D6nD38iR: ',\n",
       " 'metrics': [],\n",
       " 'running_at': '2019-01-10T09:20:16Z',\n",
       " 'state': 'completed',\n",
       " 'submitted_at': '2019-01-10T09:19:07Z'}"
      ]
     },
     "execution_count": 45,
     "metadata": {},
     "output_type": "execute_result"
    }
   ],
   "source": [
    "client.training.get_status( run_uid )\n"
   ]
  },
  {
   "cell_type": "code",
   "execution_count": null,
   "metadata": {},
   "outputs": [],
   "source": []
  }
 ],
 "metadata": {
  "kernelspec": {
   "display_name": "Python 3",
   "language": "python",
   "name": "python3"
  },
  "language_info": {
   "codemirror_mode": {
    "name": "ipython",
    "version": 3
   },
   "file_extension": ".py",
   "mimetype": "text/x-python",
   "name": "python",
   "nbconvert_exporter": "python",
   "pygments_lexer": "ipython3",
   "version": "3.6.8"
  }
 },
 "nbformat": 4,
 "nbformat_minor": 1
}
