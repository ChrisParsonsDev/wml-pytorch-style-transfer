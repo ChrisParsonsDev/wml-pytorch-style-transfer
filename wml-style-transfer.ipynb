{
 "cells": [
  {
   "cell_type": "code",
   "execution_count": 1,
   "metadata": {},
   "outputs": [
    {
     "name": "stdout",
     "output_type": "stream",
     "text": [
      "Requirement already up-to-date: wget in /opt/conda/envs/DSX-Python35/lib/python3.5/site-packages\r\n"
     ]
    }
   ],
   "source": [
    "!pip install --upgrade wget"
   ]
  },
  {
   "cell_type": "code",
   "execution_count": 2,
   "metadata": {},
   "outputs": [
    {
     "name": "stdout",
     "output_type": "stream",
     "text": [
      "Files downloaded!\n"
     ]
    }
   ],
   "source": [
    "import os\n",
    "import wget\n",
    "\n",
    "#Import files \n",
    "filename = 'pytorch-model.zip'\n",
    "url = 'https://github.com/ChrisParsonsDev/wml-pytorch-style-transfer/blob/master/pytorch-model.zip?raw=true'\n",
    "\n",
    "if not os.path.isfile( filename ): wget.download( url )\n",
    "\n",
    "print('Files downloaded!')"
   ]
  },
  {
   "cell_type": "code",
   "execution_count": 3,
   "metadata": {},
   "outputs": [],
   "source": [
    "# Insert your image credentials here!\n",
    "\n",
    "# @hidden_cell\n",
    "# The following code contains the credentials for a file in your IBM Cloud Object Storage.\n",
    "# You might want to remove those credentials before you share your notebook.\n",
    "credentials_1 = {\n",
    "    'IBM_API_KEY_ID': '***',\n",
    "    'IAM_SERVICE_ID': '***',\n",
    "    'ENDPOINT': '***',\n",
    "    'IBM_AUTH_ENDPOINT': '***',\n",
    "    'BUCKET': '***',\n",
    "    'FILE': '***'\n",
    "}"
   ]
  },
  {
   "cell_type": "code",
   "execution_count": 4,
   "metadata": {},
   "outputs": [],
   "source": [
    "# Insert your Cloud Object Storage credentials here!\n",
    "\n",
    "cos_credentials = {\n",
    "  \"apikey\": '***',\n",
    "  \"cos_hmac_keys\": {\n",
    "    \"access_key_id\": '***',\n",
    "    \"secret_access_key\": '***'\n",
    "  },\n",
    "  \"endpoints\": '***',\n",
    "  \"iam_apikey_description\": '***',\n",
    "  \"iam_apikey_name\": '***',\n",
    "  \"iam_role_crn\": '***',\n",
    "  \"iam_serviceid_crn\": '***',\n",
    "  \"resource_instance_id\": '***'\n",
    "}"
   ]
  },
  {
   "cell_type": "code",
   "execution_count": 5,
   "metadata": {},
   "outputs": [
    {
     "name": "stderr",
     "output_type": "stream",
     "text": [
      "/opt/conda/envs/DSX-Python35/lib/python3.5/site-packages/sklearn/cross_validation.py:41: DeprecationWarning: This module was deprecated in version 0.18 in favor of the model_selection module into which all the refactored classes and functions are moved. Also note that the interface of the new CV iterators are different from that of this module. This module will be removed in 0.20.\n",
      "  \"This module will be removed in 0.20.\", DeprecationWarning)\n"
     ]
    },
    {
     "name": "stdout",
     "output_type": "stream",
     "text": [
      "Watson Machine Learning credentials loaded\n"
     ]
    },
    {
     "name": "stderr",
     "output_type": "stream",
     "text": [
      "2019-01-10 10:47:33,593 - watson_machine_learning_client.metanames - WARNING - 'AUTHOR_EMAIL' meta prop is deprecated. It will be ignored.\n",
      "2019-01-10 10:48:07,466 - watson_machine_learning_client.metanames - WARNING - 'AUTHOR_EMAIL' meta prop is deprecated. It will be ignored.\n"
     ]
    }
   ],
   "source": [
    "# Insert your Watson Machine Learning credentials here!\n",
    "\n",
    "from watson_machine_learning_client import WatsonMachineLearningAPIClient\n",
    "\n",
    "wml_credentials = {\n",
    "  \"apikey\": '***',\n",
    "  \"iam_apikey_description\": '***',\n",
    "  \"iam_apikey_name\": '***',\n",
    "  \"iam_role_crn\": '***',\n",
    "  \"iam_serviceid_crn\": '***',\n",
    "  \"instance_id\": '***',\n",
    "  \"password\": '***',\n",
    "  \"url\": '***',\n",
    "  \"username\": '***'\n",
    "}\n",
    "\n",
    "client = WatsonMachineLearningAPIClient( wml_credentials )\n",
    "\n",
    "print('Watson Machine Learning credentials loaded')\n"
   ]
  },
  {
   "cell_type": "code",
   "execution_count": 6,
   "metadata": {},
   "outputs": [
    {
     "name": "stdout",
     "output_type": "stream",
     "text": [
      "Model definition:  13709e72-d72b-401c-b9c0-657b193aa2f8\n"
     ]
    }
   ],
   "source": [
    "metadata = {\n",
    "    client.repository.DefinitionMetaNames.NAME              : \"pytorch-styletransfer-wml\",\n",
    "    client.repository.DefinitionMetaNames.AUTHOR_EMAIL      : \"chrisparsons@uk.ibm.com\",\n",
    "    client.repository.DefinitionMetaNames.FRAMEWORK_NAME    : \"pytorch\",\n",
    "    client.repository.DefinitionMetaNames.FRAMEWORK_VERSION : \"1.0\",\n",
    "    client.repository.DefinitionMetaNames.RUNTIME_NAME      : \"python\",\n",
    "    client.repository.DefinitionMetaNames.RUNTIME_VERSION   : \"3.5\",\n",
    "    client.repository.DefinitionMetaNames.EXECUTION_COMMAND : \"python3 ./pytorch-model/style-transfer.py --styleImageFile ${DATA_DIR}/style.jpg --contentImageFile ${DATA_DIR}/content.png --trainingIters 2000\"\n",
    "}\n",
    "\n",
    "definition_details = client.repository.store_definition( \"pytorch-model.zip\", meta_props=metadata )\n",
    "definition_uid     = client.repository.get_definition_uid( definition_details )\n",
    "\n",
    "print( \"Model definition: \", definition_uid )"
   ]
  },
  {
   "cell_type": "code",
   "execution_count": 9,
   "metadata": {},
   "outputs": [],
   "source": [
    "metadata = {\n",
    "client.training.ConfigurationMetaNames.NAME         : \"pytorch-styletransfer-wml\",\n",
    "client.training.ConfigurationMetaNames.AUTHOR_EMAIL : \"chrisparsons@uk.ibm.com\",\n",
    "client.training.ConfigurationMetaNames.TRAINING_DATA_REFERENCE : {\n",
    "   \"connection\" : { \n",
    "      \"endpoint_url\"      : credentials_1['ENDPOINT'],\n",
    "      \"access_key_id\"     : cos_credentials[\"cos_hmac_keys\"][\"access_key_id\"],\n",
    "      \"secret_access_key\" : cos_credentials[\"cos_hmac_keys\"][\"secret_access_key\"]\n",
    "      },\n",
    "   \"source\" : { \n",
    "      \"bucket\" : credentials_1['BUCKET'],\n",
    "      },\n",
    "      \"type\" : \"s3\"\n",
    "   },\n",
    "client.training.ConfigurationMetaNames.TRAINING_RESULTS_REFERENCE: {\n",
    "   \"connection\" : {\n",
    "      \"endpoint_url\"      : credentials_1['ENDPOINT'],\n",
    "      \"access_key_id\"     : cos_credentials[\"cos_hmac_keys\"][\"access_key_id\"],\n",
    "      \"secret_access_key\" : cos_credentials[\"cos_hmac_keys\"][\"secret_access_key\"]\n",
    "      },\n",
    "      \"target\" : {\n",
    "         \"bucket\" : credentials_1['BUCKET'],\n",
    "      },\n",
    "      \"type\" : \"s3\"\n",
    "   }\n",
    "}"
   ]
  },
  {
   "cell_type": "code",
   "execution_count": 10,
   "metadata": {},
   "outputs": [
    {
     "name": "stdout",
     "output_type": "stream",
     "text": [
      "run_uid:  model-hqwass1f\n"
     ]
    }
   ],
   "source": [
    "run_details = client.training.run( definition_uid, meta_props=metadata )\n",
    "run_uid     = client.training.get_run_uid( run_details )\n",
    "print( \"run_uid: \", run_uid )"
   ]
  },
  {
   "cell_type": "code",
   "execution_count": 31,
   "metadata": {},
   "outputs": [
    {
     "data": {
      "text/plain": [
       "{'current_at': '2019-01-10T11:06:21Z',\n",
       " 'message': 'training-8feH238mg: ',\n",
       " 'metrics': [],\n",
       " 'running_at': '2019-01-10T10:50:34Z',\n",
       " 'state': 'running',\n",
       " 'submitted_at': '2019-01-10T10:48:08Z'}"
      ]
     },
     "execution_count": 31,
     "metadata": {},
     "output_type": "execute_result"
    }
   ],
   "source": [
    "client.training.get_status( run_uid )"
   ]
  },
  {
   "cell_type": "code",
   "execution_count": null,
   "metadata": {},
   "outputs": [],
   "source": []
  }
 ],
 "metadata": {
  "kernelspec": {
   "display_name": "Python 3",
   "language": "python",
   "name": "python3"
  },
  "language_info": {
   "codemirror_mode": {
    "name": "ipython",
    "version": 3
   },
   "file_extension": ".py",
   "mimetype": "text/x-python",
   "name": "python",
   "nbconvert_exporter": "python",
   "pygments_lexer": "ipython3",
   "version": "3.6.8"
  }
 },
 "nbformat": 4,
 "nbformat_minor": 1
}
